{
 "cells": [
  {
   "cell_type": "markdown",
   "metadata": {
    "id": "l5p2aItYy2dC"
   },
   "source": [
    "<div>\n",
    "<font face=\"Times New Roman\">\n",
    "<div dir=ltr align=center>\n",
    "<!-- <font color=0F5298 size=7> -->\n",
    "<font color=0F5298 size=6>\n",
    "    Image Processing and working with Numpy <br> <br>\n",
    "\n",
    "    \n",
    "____"
   ]
  },
  {
   "cell_type": "code",
   "execution_count": 7,
   "metadata": {
    "id": "ho8woZhm8E5L"
   },
   "outputs": [
    {
     "ename": "ModuleNotFoundError",
     "evalue": "No module named 'google.colab'",
     "output_type": "error",
     "traceback": [
      "\u001b[1;31m---------------------------------------------------------------------------\u001b[0m",
      "\u001b[1;31mModuleNotFoundError\u001b[0m                       Traceback (most recent call last)",
      "Cell \u001b[1;32mIn[7], line 4\u001b[0m\n\u001b[0;32m      2\u001b[0m \u001b[38;5;28;01mimport\u001b[39;00m \u001b[38;5;21;01mcv2\u001b[39;00m\n\u001b[0;32m      3\u001b[0m \u001b[38;5;66;03m# for google colab\u001b[39;00m\n\u001b[1;32m----> 4\u001b[0m \u001b[38;5;28;01mfrom\u001b[39;00m \u001b[38;5;21;01mgoogle\u001b[39;00m\u001b[38;5;21;01m.\u001b[39;00m\u001b[38;5;21;01mcolab\u001b[39;00m\u001b[38;5;21;01m.\u001b[39;00m\u001b[38;5;21;01mpatches\u001b[39;00m \u001b[38;5;28;01mimport\u001b[39;00m cv2_imshow\n\u001b[0;32m      5\u001b[0m \u001b[38;5;28;01mimport\u001b[39;00m \u001b[38;5;21;01mnumpy\u001b[39;00m \u001b[38;5;28;01mas\u001b[39;00m \u001b[38;5;21;01mnp\u001b[39;00m\n\u001b[0;32m      6\u001b[0m \u001b[38;5;28;01mimport\u001b[39;00m \u001b[38;5;21;01mmatplotlib\u001b[39;00m\u001b[38;5;21;01m.\u001b[39;00m\u001b[38;5;21;01mpyplot\u001b[39;00m \u001b[38;5;28;01mas\u001b[39;00m \u001b[38;5;21;01mplt\u001b[39;00m\n",
      "\u001b[1;31mModuleNotFoundError\u001b[0m: No module named 'google.colab'"
     ]
    }
   ],
   "source": [
    "# Imports\n",
    "import cv2\n",
    "# for google colab\n",
    "from google.colab.patches import cv2_imshow\n",
    "import numpy as np\n",
    "import matplotlib.pyplot as plt\n",
    "import timeit\n",
    "import matplotlib.image as mpimg\n",
    "from PIL import Image"
   ]
  },
  {
   "cell_type": "markdown",
   "metadata": {
    "id": "Y4ITrbX-7_8X"
   },
   "source": [
    "# Image Processing"
   ]
  },
  {
   "cell_type": "markdown",
   "metadata": {
    "id": "_9yrmOgi7A5h"
   },
   "source": [
    "First I load an image and convert it to a gray scaled image then I'll process it by some operations using numpy."
   ]
  },
  {
   "cell_type": "code",
   "execution_count": null,
   "metadata": {
    "colab": {
     "base_uri": "https://localhost:8080/",
     "height": 465
    },
    "id": "_VihE6S-8MXd",
    "outputId": "1fb054dd-0704-4a25-8a23-9202c2698f8c"
   },
   "outputs": [],
   "source": [
    "# read and show the image\n",
    "image = cv2.imread('./R.jpeg')\n",
    "gray_image = cv2.cvtColor(image, cv2.COLOR_BGR2GRAY)\n",
    "cv2_imshow(gray_image)\n",
    "# another way to load image by pyplot\n",
    "# image = np.asarray(Image.open('./R.jpeg'))\n",
    "# plt.imshow(image)"
   ]
  },
  {
   "cell_type": "markdown",
   "metadata": {
    "id": "GAbsWX7sOWj8"
   },
   "source": [
    "<b> From now on, I work with the grayscale image in each cell."
   ]
  },
  {
   "cell_type": "markdown",
   "metadata": {
    "id": "uivFn3sv8TqB"
   },
   "source": [
    "Make pixels brighter than 150, 100 degree darker."
   ]
  },
  {
   "cell_type": "code",
   "execution_count": null,
   "metadata": {
    "id": "09G8YtxN8aFz"
   },
   "outputs": [],
   "source": [
    "darker_image = np.where(gray_image > 150, np.maximum(0, gray_image - 100), gray_image)\n",
    "cv2_imshow(darker_image)"
   ]
  },
  {
   "cell_type": "markdown",
   "metadata": {
    "id": "V33ZzR548fbD"
   },
   "source": [
    "In grayscale images, pixel values typically range from 0 to 255, where 0 represents black and 255 represents white. subtracting each pixel value from 255 effectively produces the negative of the grayscale image. Now I want to create negative grayscale version of our image."
   ]
  },
  {
   "cell_type": "code",
   "execution_count": null,
   "metadata": {
    "id": "uMHF3or38ni3"
   },
   "outputs": [],
   "source": [
    "negative_grayscale_image = 255 - gray_image\n",
    "cv2_imshow(negative_grayscale_image)"
   ]
  },
  {
   "cell_type": "code",
   "execution_count": null,
   "metadata": {
    "id": "azH8DJb289Wm"
   },
   "outputs": [],
   "source": [
    "# Split the image horizontally into two equal parts using NumPy's split function.\n",
    "split_image1 = np.split(gray_image, 2, axis=0)\n",
    "upper_half, lower_half = split_image1[0] , split_image1[1]\n",
    "cv2_imshow(upper_half)\n",
    "cv2_imshow(lower_half)"
   ]
  },
  {
   "cell_type": "code",
   "execution_count": null,
   "metadata": {
    "id": "bVoW8_1C9I58"
   },
   "outputs": [],
   "source": [
    "# Split the image vertically into two equal parts using indexes and slicing.\n",
    "split_image2 = np.split(gray_image,2,axis = 1)\n",
    "left_half, right_half = split_image2[0],split_image2[1]\n",
    "cv2_imshow(left_half)\n",
    "cv2_imshow(right_half)"
   ]
  },
  {
   "cell_type": "markdown",
   "metadata": {
    "id": "W81VCsIk9Okc"
   },
   "source": [
    "now i need 4 vertical split (vsplit) from image."
   ]
  },
  {
   "cell_type": "code",
   "execution_count": null,
   "metadata": {
    "id": "y-jP-txg9VAg"
   },
   "outputs": [],
   "source": [
    "# Split the image vertically into four equal parts using numpy vsplit function.\n",
    "split_image3 = np.vsplit(gray_image,4)\n",
    "part1, part2, part3, part4 = split_image3[0], split_image3[1], split_image3[2], split_image3[3]\n",
    "cv2_imshow(part1)\n",
    "cv2_imshow(part2)\n",
    "cv2_imshow(part3)\n",
    "cv2_imshow(part4)"
   ]
  },
  {
   "cell_type": "markdown",
   "metadata": {
    "id": "9sLEQh4Qmu1A"
   },
   "source": [
    "split the original image horizontally calling them left and right images"
   ]
  },
  {
   "cell_type": "code",
   "execution_count": null,
   "metadata": {
    "id": "PFcTfqYYOZgu"
   },
   "outputs": [],
   "source": [
    "split_image4 = np.hsplit(image,2)\n",
    "left,right = split_image4[0] , split_image4[1]"
   ]
  },
  {
   "cell_type": "code",
   "execution_count": null,
   "metadata": {
    "id": "nsQiIzISm2mb"
   },
   "outputs": [],
   "source": [
    "cv2_imshow(left)"
   ]
  },
  {
   "cell_type": "code",
   "execution_count": null,
   "metadata": {
    "id": "37W6ZCB1m2Hx"
   },
   "outputs": [],
   "source": [
    "cv2_imshow(right)"
   ]
  },
  {
   "cell_type": "markdown",
   "metadata": {
    "id": "MHp9332UnAWK"
   },
   "source": [
    "using  invert the left image."
   ]
  },
  {
   "cell_type": "code",
   "execution_count": null,
   "metadata": {
    "id": "HNsEGtjonBRF"
   },
   "outputs": [],
   "source": [
    "#invert left\n",
    "inverted_left = np.invert(left)\n",
    "cv2_imshow(inverted_left)"
   ]
  },
  {
   "cell_type": "markdown",
   "metadata": {
    "id": "ftm7dyHTnFhc"
   },
   "source": [
    "mirror both the inverted left image and the right image."
   ]
  },
  {
   "cell_type": "code",
   "execution_count": null,
   "metadata": {
    "id": "I1SxrohZnGb9"
   },
   "outputs": [],
   "source": [
    "#flip inverted left image\n",
    "mirrored_left = np.fliplr(inverted_left)\n",
    "cv2_imshow(mirrored_left)"
   ]
  },
  {
   "cell_type": "code",
   "execution_count": null,
   "metadata": {
    "id": "RZ-vHpAWnKS_"
   },
   "outputs": [],
   "source": [
    "#flip right image\n",
    "mirrored_right = np.fliplr(right)\n",
    "cv2_imshow(mirrored_right)"
   ]
  },
  {
   "cell_type": "markdown",
   "metadata": {
    "id": "59Oc6NEQnJEW"
   },
   "source": [
    "In the next step I want to concat the two images horizontally."
   ]
  },
  {
   "cell_type": "code",
   "execution_count": null,
   "metadata": {
    "id": "TwQkAFHsnN73"
   },
   "outputs": [],
   "source": [
    "#concat mirrored_left and mirrored_right\n",
    "final_image = np.concatenate((mirrored_left,mirrored_right),axis=1)\n",
    "cv2_imshow(final_image)"
   ]
  },
  {
   "cell_type": "markdown",
   "metadata": {
    "id": "8higlCrnnRpv"
   },
   "source": [
    "For the final I step invert the concated image."
   ]
  },
  {
   "cell_type": "code",
   "execution_count": null,
   "metadata": {
    "id": "cIEu-_CBnSX4"
   },
   "outputs": [],
   "source": [
    "#invert final_image\n",
    "invert_final_image = np.invert(final_image)\n",
    "cv2_imshow(invert_final_image)"
   ]
  },
  {
   "cell_type": "markdown",
   "metadata": {
    "id": "_wAp4U45Ihcn"
   },
   "source": [
    "In order to compare how \"similar\" two vectors are, we define the D parameter like below (a and b are the two vectors we want to compare, with n indices). the smaller the value of D for 2 vectors is, the more similar those two vectors are."
   ]
  },
  {
   "cell_type": "markdown",
   "metadata": {
    "id": "qOcn-IyOIrWn"
   },
   "source": [
    "$D=\\sqrt{\\Sigma_{i=1}^n(a_i-b_i)^2}$"
   ]
  },
  {
   "cell_type": "markdown",
   "metadata": {
    "id": "zdg9ct4BJEm7"
   },
   "source": [
    "Inputs: in the first line the users gives the value m, which is the number of vectors. In each of the next m lines, the user will give a vector as the input. In the next line, the users gives the vector v."
   ]
  },
  {
   "cell_type": "markdown",
   "metadata": {
    "id": "v1xgM5V2JHSl"
   },
   "source": [
    "I want to find the closest vector to v."
   ]
  },
  {
   "cell_type": "code",
   "execution_count": null,
   "metadata": {
    "colab": {
     "base_uri": "https://localhost:8080/",
     "height": 373
    },
    "id": "RljezacPJKRa",
    "outputId": "3438a5bc-ab7e-44d2-dfe4-87692c5b8c96"
   },
   "outputs": [],
   "source": [
    "#only get the inputs\n",
    "\n",
    "\n",
    "#get the number m\n",
    "m = int(input())\n",
    "#get m vectors\n",
    "vectors = []\n",
    "for i in range(m):\n",
    "    vector_input = input()\n",
    "    components = list(map(int, vector_input.split(' ')))\n",
    "    vector = np.array(components)\n",
    "    vectors.append(vector)\n",
    "#get the vector v\n",
    "vector_input = input()\n",
    "v = np.array(list(map(int, vector_input.split(' '))))"
   ]
  },
  {
   "cell_type": "code",
   "execution_count": null,
   "metadata": {
    "id": "MljB7X5-JRhK"
   },
   "outputs": [],
   "source": [
    "#find the expected output.\n",
    "\n",
    "\n",
    "#find the difference of all vectors with v\n",
    "differences = vectors - v\n",
    "#compute D for each vector\n",
    "sum_of_diffs = np.sum(differences,axis = 1)\n",
    "power_2 = np.power(sum_of_diffs , 2)\n",
    "sqrt = np.sqrt(power_2)\n",
    "D = sqrt\n",
    "#find the vector with the lowest D\n",
    "min_index = np.argmin(D)\n",
    "#print the most similar vector\n",
    "print(vectors[min_index])"
   ]
  },
  {
   "cell_type": "markdown",
   "metadata": {
    "id": "bEZinHp8Yd1c"
   },
   "source": [
    "# Shear Images and find similarity"
   ]
  },
  {
   "cell_type": "code",
   "execution_count": null,
   "metadata": {
    "colab": {
     "base_uri": "https://localhost:8080/"
    },
    "id": "t9uC4W72aVxv",
    "outputId": "4e03cda6-85b5-49d1-826b-92ae93496eaa"
   },
   "outputs": [],
   "source": [
    "!wget https://img.freepik.com/free-photo/cat-sneaking-look-from-white-screen_60438-3711.jpg -O image.jpg"
   ]
  },
  {
   "cell_type": "code",
   "execution_count": null,
   "metadata": {
    "colab": {
     "base_uri": "https://localhost:8080/",
     "height": 233
    },
    "id": "noyPxrDMYkyn",
    "outputId": "f28398d4-ce67-4ff1-9ed0-766dab3af705"
   },
   "outputs": [],
   "source": [
    "# Load the image\n",
    "image = mpimg.imread('image.jpg')\n",
    "\n",
    "# Get the dimensions of the image\n",
    "rows, cols, _ = image.shape\n",
    "\n",
    "# Calculate the sheared image dimensions\n",
    "shear_factor = 0.5\n",
    "sheared_cols = int(cols + abs(shear_factor) * rows)\n",
    "\n",
    "# Define the shear matrix\n",
    "shear_matrix = np.array([[1, shear_factor, 0],\n",
    "                          [0, 1, 0],\n",
    "                          [0, 0, 1]])\n",
    "\n",
    "# Create a grid of indices\n",
    "x, y = np.meshgrid(np.arange(sheared_cols), np.arange(rows))\n",
    "ones = np.ones_like(x)\n",
    "\n",
    "# Flatten the grid of indices\n",
    "indices = np.vstack((x.flatten(), y.flatten(), ones.flatten()))\n",
    "\n",
    "#  Apply the shear matrix to the indices using dot product\n",
    "\n",
    "sheared_indices = np.dot(shear_matrix,indices).astype(int)\n",
    "\n",
    "# Reshape the indices back to their original grid shape\n",
    "sheared_indices = sheared_indices[:2, :].reshape(2, rows, sheared_cols)\n",
    "\n",
    "\n",
    "# Clip indices to stay within image bounds and Map the sheared indices to the original image\n",
    "\n",
    "sheared_indices[0] = np.clip(sheared_indices[0],0,cols -1)\n",
    "sheared_indices[1] = np.clip(sheared_indices[1],0,rows -1)\n",
    "\n",
    "#for mapping\n",
    "sheared_image = image[sheared_indices[1],sheared_indices[0]]\n",
    "\n",
    "# Display the original and sheared images\n",
    "plt.figure(figsize=(10, 5))\n",
    "plt.subplot(1, 2, 1)\n",
    "plt.imshow(image)\n",
    "plt.title('Original Image')\n",
    "plt.axis('off')\n",
    "\n",
    "plt.subplot(1, 2, 2)\n",
    "plt.imshow(sheared_image)\n",
    "plt.title('Sheared Image')\n",
    "plt.axis('off')\n",
    "\n",
    "plt.show()"
   ]
  },
  {
   "cell_type": "markdown",
   "metadata": {
    "id": "HY5ty9hLd3cs"
   },
   "source": [
    "Find the similarity between the 2 images by dot product."
   ]
  },
  {
   "cell_type": "code",
   "execution_count": null,
   "metadata": {
    "colab": {
     "base_uri": "https://localhost:8080/"
    },
    "id": "dZMV5HSQdRcg",
    "outputId": "41d4f1e5-bfdd-44a1-9630-d735c5eaa4d7"
   },
   "outputs": [],
   "source": [
    "# Resize the sheared image to match the size of the original image\n",
    "sheared_image_resized = cv2.resize(sheared_image, (cols, rows))\n",
    "\n",
    "# Flatten the original and resized sheared images into vectors\n",
    "original_image_vector = image.flatten()\n",
    "sheared_image_vector = sheared_image_resized.flatten()\n",
    "\n",
    "# Calculate the dot product between the two vectors and normalize it\n",
    "\n",
    "dot_product = np.dot(original_image_vector , sheared_image_vector)\n",
    "norm_original = np.linalg.norm(original_image_vector)\n",
    "norm_sheared = np.linalg.norm(sheared_image_vector)\n",
    "similarity = dot_product / (norm_original * norm_sheared)\n",
    "\n",
    "print(f\"Similarity between the original and sheared images: {similarity}\")\n",
    "#It is not high because of shear transformation effects or interpolation during resize when resizing the sheared image to match the size of the original image or quantization errors when flatenning the images into vectors and normalazing it."
   ]
  },
  {
   "cell_type": "markdown",
   "metadata": {
    "id": "CR4vtcA2zvH1"
   },
   "source": [
    "# Graph Theory"
   ]
  },
  {
   "cell_type": "markdown",
   "metadata": {
    "id": "ZoXyBfurz2kI"
   },
   "source": [
    "In graph theory, a matrix is associated with each graph, which is called the adjacency matrix of that graph.\n",
    "The definition of the adjacency matrix of a graph is that if our graph is given with a set of vertices\n",
    "$V=\\{v_1, ..., v_n\\}$,\n",
    "then the corresponding matrix\n",
    "$A_{n\\times n} = [a_{ij}]$\n",
    "will be such that\n",
    "$a_{ij} = 1$\n",
    "if and only if vertices\n",
    "$v_i$\n",
    "and\n",
    "$v_j$\n",
    "are connected by an edge, otherwise\n",
    "$a_{ij} = 0$.\n",
    "Now, we want to define some types of multiplication for two graphs and ask you to find the adjacency matrix product of two arbitrary graphs using your knowledge of\n",
    "$numpy$\n",
    "and the adjacency matrices of the graphs."
   ]
  },
  {
   "cell_type": "markdown",
   "metadata": {
    "id": "-ToKzKMUz7p7"
   },
   "source": [
    "The first type of multiplication is the tensor or Category product of two graphs. Its definition is as follows: if we consider two graphs\n",
    "$G$\n",
    "and\n",
    "$H$\n",
    "in such a way that\n",
    "$V(G) = \\{x_1, ..., x_n\\}$\n",
    "and\n",
    "$V(H) = \\{y_1, ..., y_m\\}$,\n",
    "then the category product of these two graphs, denoted by\n",
    "$G\\times H$,\n",
    "has a vertex set defined as\n",
    "$V(G\\times H) = V(G) \\times V(H)$,\n",
    "and we connect two vertices\n",
    "$(x_i, y_j)$\n",
    "and\n",
    "$(x_{i'}, y_{j'})$\n",
    "if and only if\n",
    "$y_jy_{j'} \\in E(H)$\n",
    "or\n",
    "$x_ix_{i'} \\in E(G)$.\n",
    "\n",
    "Now, we obtain the adjacency matrix of the Cartesian product of two graphs by taking the adjacency matrices of those graphs and applying the defined connections."
   ]
  },
  {
   "cell_type": "code",
   "execution_count": null,
   "metadata": {
    "id": "atRtZOPvz_sn"
   },
   "outputs": [],
   "source": [
    "import numpy as np\n",
    "import networkx as nx\n",
    "import matplotlib.pyplot as plt"
   ]
  },
  {
   "cell_type": "code",
   "execution_count": null,
   "metadata": {
    "colab": {
     "base_uri": "https://localhost:8080/"
    },
    "id": "M4ueyweS0EhT",
    "outputId": "d5449ac6-1a7c-47c7-9892-57c0a1fb7fe0"
   },
   "outputs": [],
   "source": [
    "# Create example graphs\n",
    "graph_A = nx.Graph([(1, 2), (2, 3)])\n",
    "graph_B = nx.Graph([(4, 5), (5, 6)])\n",
    "\n",
    "# Get adjacency matrices\n",
    "matrix_A = nx.linalg.graphmatrix.adjacency_matrix(graph_A).todense()\n",
    "matrix_B = nx.linalg.graphmatrix.adjacency_matrix(graph_B).todense()\n",
    "\n",
    "print(\"Adjacency Matrix A:\")\n",
    "print(matrix_A)\n",
    "print(\"\\nAdjacency Matrix B:\")\n",
    "print(matrix_B)"
   ]
  },
  {
   "cell_type": "code",
   "execution_count": null,
   "metadata": {
    "colab": {
     "base_uri": "https://localhost:8080/"
    },
    "id": "scdRmSA30NzH",
    "outputId": "74efa69d-d7b8-4698-f0c7-9130d3ac9197"
   },
   "outputs": [],
   "source": [
    "def category_product(matrix_A, matrix_B):\n",
    "  \"\"\"\n",
    "    The category product of two graphs A and B, returns a new graph\n",
    "    and this new graph, has an adjacency matrix\n",
    "    and I return this matrix in this function\n",
    "  \"\"\"\n",
    "  tensor_produxt = np.kron(matrix_A,matrix_B)\n",
    "  return tensor_produxt\n",
    "\n",
    "\n",
    "result_matrix = category_product(matrix_A, matrix_B)\n",
    "print(\"Adjacency matrix of category product of A and B:\")\n",
    "print(result_matrix)"
   ]
  },
  {
   "cell_type": "markdown",
   "metadata": {
    "id": "e7Dr_v8C1ZzN"
   },
   "source": [
    "To better understand this matter, we illustrate the graphs:"
   ]
  },
  {
   "cell_type": "code",
   "execution_count": null,
   "metadata": {
    "colab": {
     "base_uri": "https://localhost:8080/",
     "height": 276
    },
    "id": "UkTQVJKY1qmb",
    "outputId": "91b62090-4fa9-4b23-8256-1ba382902914"
   },
   "outputs": [],
   "source": [
    "# Create graphs from matrices\n",
    "graph_result = nx.Graph(result_matrix)\n",
    "\n",
    "# Visualize original graphs and the resulting graph\n",
    "plt.figure(figsize=(12, 4))\n",
    "\n",
    "plt.subplot(131)\n",
    "nx.draw(graph_A, with_labels=True, font_weight='bold')\n",
    "plt.title('Graph A')\n",
    "\n",
    "plt.subplot(132)\n",
    "nx.draw(graph_B, with_labels=True, font_weight='bold')\n",
    "plt.title('Graph B')\n",
    "\n",
    "plt.subplot(133)\n",
    "nx.draw(graph_result, with_labels=True, font_weight='bold')\n",
    "plt.title('Resulting category Product of Graphs ')\n",
    "\n",
    "plt.show()"
   ]
  },
  {
   "cell_type": "markdown",
   "metadata": {
    "id": "q7YSRi6I2Dez"
   },
   "source": [
    "The second type of multiplication is the Cartesian product of two graphs, denoted as $G\\square H$. If we consider two graphs $G$ and $H$ with vertex sets $V(G) = \\{x_1, ..., x_n\\}$ and $V(H) = \\{y_1, ..., y_m\\}$, then the Cartesian product of these two graphs is represented by $G\\square H$, and its vertex set is defined as $V(G\\square H) = V(G) \\times V(H)$. We connect two vertices $(x_i, y_j)$ and $(x_{i'}, y_{j'})$ if and only if $y_jy_{j'} \\in E(H)$ and $i = i'$ or $x_ix_i' \\in E(G)$ and $j = j'$.\n",
    "\n",
    "Now, we obtain the adjacency matrix of the Cartesian product of two graphs by taking the adjacency matrices of those graphs and applying the defined connections."
   ]
  },
  {
   "cell_type": "code",
   "execution_count": null,
   "metadata": {
    "colab": {
     "base_uri": "https://localhost:8080/"
    },
    "id": "3ID8i-W72JEm",
    "outputId": "cf5892cf-d6c5-4bbe-92bd-2fd1058d544c"
   },
   "outputs": [],
   "source": [
    "def cartesian_product(matrix_A, matrix_B):\n",
    "  \"\"\"\n",
    "    The cartesian product of two graphs A and B, returns a new graph\n",
    "    and this new graph, has an adjacency matrix\n",
    "    and you should return this matrix in this function\n",
    "  \"\"\"\n",
    "  cartesian_product = np.kron(matrix_A,matrix_B)\n",
    "  return cartesian_product\n",
    "\n",
    "result_matrix = cartesian_product(matrix_A, matrix_B)\n",
    "print(\"Adjacency matrix of cartesian product of G and H:\")\n",
    "print(result_matrix)"
   ]
  },
  {
   "cell_type": "markdown",
   "metadata": {
    "id": "-VQO7I_H5xKK"
   },
   "source": [
    "To better understand this matter, we illustrate the graphs:"
   ]
  },
  {
   "cell_type": "code",
   "execution_count": null,
   "metadata": {
    "colab": {
     "base_uri": "https://localhost:8080/",
     "height": 275
    },
    "id": "wkzmvAXh5x7Z",
    "outputId": "0ac1cfab-c2c4-451e-d105-75959bff5435"
   },
   "outputs": [],
   "source": [
    "# Create graphs from matrices\n",
    "graph_result = nx.Graph(result_matrix)\n",
    "\n",
    "# Visualize original graphs and the resulting graph\n",
    "plt.figure(figsize=(12, 4))\n",
    "\n",
    "plt.subplot(131)\n",
    "nx.draw(graph_A, with_labels=True, font_weight='bold')\n",
    "plt.title('Graph A')\n",
    "\n",
    "plt.subplot(132)\n",
    "nx.draw(graph_B, with_labels=True, font_weight='bold')\n",
    "plt.title('Graph B')\n",
    "\n",
    "plt.subplot(133)\n",
    "nx.draw(graph_result, with_labels=True, font_weight='bold')\n",
    "plt.title('Resulting Cartesian Product of Graphs ')\n",
    "\n",
    "plt.show()"
   ]
  },
  {
   "cell_type": "markdown",
   "metadata": {
    "id": "l_ShvzTi9XeH"
   },
   "source": [
    "# Vectorization, Rotation and Introduction to pandas\n",
    "Face Data"
   ]
  },
  {
   "cell_type": "code",
   "execution_count": null,
   "metadata": {
    "id": "ftr9lqBv9ZXd"
   },
   "outputs": [],
   "source": [
    "Face1 = np.array([[-64.0, 39.0], [-63.0, 21.0], [-60.0, 3.0], [-57.0, -14.0], [-51.0, -31.0],\n",
    "                  [-42.0, -47.0], [-30.0, -60.0], [-16.0, -70.0], [-1.0, -73.0], [15.0, -71.0],\n",
    "                  [29.0, -60.0], [42.0, -48.0], [52.0, -32.0], [58.0, -16.0], [62.0, 2.0],\n",
    "                  [64.0, 20.0], [64.0, 38.0], [-53.0, 47.0], [-45.0, 57.0], [-33.0, 60.0],\n",
    "                  [-19.0, 60.0], [-7.0, 56.0], [8.0, 57.0], [20.0, 60.0], [33.0, 61.0],\n",
    "                  [46.0, 56.0], [53.0, 47.0], [1.0, 42.0], [1.0, 28.0], [1.0, 14.0], [2.0, 0.0],\n",
    "                  [-14.0, -7.0], [-7.0, -10.0], [1.0, -12.0], [9.0, -10.0], [16.0, -7.0],\n",
    "                  [-39.0, 38.0], [-32.0, 41.0], [-24.0, 42.0], [-17.0, 37.0], [-24.0, 36.0],\n",
    "                  [-32.0, 36.0], [17.0, 37.0], [24.0, 42.0], [32.0, 41.0], [40.0, 38.0],\n",
    "                  [33.0, 35.0], [24.0, 35.0], [-25.0, -31.0], [-15.0, -28.0], [-6.0, -26.0],\n",
    "                  [-0.0, -28.0], [7.0, -26.0], [15.0, -28.0], [25.0, -30.0], [16.0, -38.0],\n",
    "                  [7.0, -42.0], [-0.0, -43.0], [-7.0, -43.0], [-16.0, -39.0], [-20.0, -32.0],\n",
    "                  [-6.0, -32.0], [-0.0, -33.0], [7.0, -32.0], [20.0, -31.0], [7.0, -34.0],\n",
    "                  [1.0, -35.0], [-6.0, -34.0]])\n",
    "\n",
    "Face2 = np.array([[-64.0, 41.0], [-64.0, 23.0], [-62.0, 5.0], [-60.0, -13.0], [-53.0, -31.0],\n",
    "                  [-43.0, -48.0], [-31.0, -62.0], [-17.0, -74.0], [-1.0, -77.0], [16.0, -74.0],\n",
    "                  [30.0, -62.0], [42.0, -47.0], [53.0, -31.0], [59.0, -14.0], [63.0, 4.0],\n",
    "                  [64.0, 21.0], [65.0, 39.0], [-53.0, 46.0], [-46.0, 55.0], [-34.0, 59.0],\n",
    "                  [-21.0, 59.0], [-9.0, 55.0], [9.0, 55.0], [21.0, 58.0], [34.0, 58.0],\n",
    "                  [46.0, 53.0], [53.0, 43.0], [1.0, 40.0], [1.0, 25.0], [1.0, 11.0],\n",
    "                  [1.0, -3.0], [-18.0, -5.0], [-9.0, -9.0], [0.0, -13.0], [10.0, -9.0],\n",
    "                  [18.0, -5.0], [-40.0, 36.0], [-32.0, 38.0], [-25.0, 38.0], [-18.0, 36.0],\n",
    "                  [-25.0, 35.0], [-33.0, 35.0], [18.0, 35.0], [26.0, 37.0], [33.0, 36.0],\n",
    "                  [41.0, 34.0], [33.0, 33.0], [26.0, 34.0], [-35.0, -20.0], [-23.0, -20.0],\n",
    "                  [-11.0, -20.0], [-1.0, -22.0], [9.0, -21.0], [20.0, -20.0], [32.0, -20.0],\n",
    "                  [21.0, -38.0], [9.0, -46.0], [-1.0, -48.0], [-12.0, -46.0], [-25.0, -38.0],\n",
    "                  [-31.0, -22.0], [-11.0, -24.0], [-1.0, -26.0], [9.0, -24.0], [28.0, -22.0],\n",
    "                  [9.0, -37.0], [-1.0, -39.0], [-11.0, -38.0]])\n",
    "\n",
    "Face3 = np.array([[-66.0, 36.0], [-65.0, 17.0], [-63.0, -1.0], [-59.0, -19.0], [-52.0, -37.0],\n",
    "                  [-44.0, -54.0], [-33.0, -68.0], [-19.0, -78.0], [-3.0, -81.0], [13.0, -78.0],\n",
    "                  [27.0, -68.0], [40.0, -56.0], [50.0, -40.0], [57.0, -23.0], [62.0, -5.0],\n",
    "                  [64.0, 13.0], [65.0, 32.0], [-51.0, 58.0], [-44.0, 69.0], [-32.0, 73.0],\n",
    "                  [-19.0, 73.0], [-8.0, 68.0], [12.0, 68.0], [23.0, 73.0], [36.0, 74.0],\n",
    "                  [47.0, 69.0], [54.0, 58.0], [2.0, 47.0], [2.0, 34.0], [2.0, 23.0],\n",
    "                  [2.0, 10.0], [-13.0, -2.0], [-6.0, -4.0], [1.0, -6.0], [7.0, -5.0],\n",
    "                  [14.0, -2.0], [-39.0, 41.0], [-32.0, 46.0], [-23.0, 46.0], [-16.0, 41.0],\n",
    "                  [-24.0, 39.0], [-32.0, 38.0], [18.0, 40.0], [25.0, 46.0], [34.0, 45.0],\n",
    "                  [41.0, 40.0], [34.0, 37.0], [25.0, 38.0], [-20.0, -36.0], [-14.0, -27.0],\n",
    "                  [-6.0, -22.0], [-1.0, -24.0], [5.0, -22.0], [12.0, -28.0], [18.0, -38.0],\n",
    "                  [12.0, -48.0], [4.0, -53.0], [-2.0, -54.0], [-8.0, -53.0], [-15.0, -47.0],\n",
    "                  [-16.0, -36.0], [-6.0, -29.0], [-1.0, -29.0], [4.0, -29.0], [14.0, -37.0],\n",
    "                  [4.0, -43.0], [-1.0, -44.0], [-7.0, -43.0]])\n",
    "\n",
    "\n",
    "\n",
    "TargetFace1 = np.array([[-65.2, 37.6], [-64.4, 19.0], [-62.2, 1.0], [-58.8, -16.8], [-52.0, -34.6], [-43.4, -51.4], [-32.0, -65.2], [-18.0, -75.6], [-2.2, -78.6], [14.0, -75.8], [28.0, -65.2], [40.8, -52.6], [51.0, -36.6], [57.6, -19.8], [62.2, -1.8], [64.0, 16.0], [64.8, 34.6], [-51.8, 53.4], [-44.6, 63.8], [-32.6, 67.6], [-19.4, 67.6], [-8.0, 63.0], [10.6, 63.2], [22.0, 67.4], [35.0, 68.2], [46.6, 63.2], [53.6, 52.8], [1.6, 44.6], [1.6, 31.0], [1.6, 18.8], [1.8, 5.4], [-14.2, -3.6], [-6.8, -6.2], [0.8, -8.6], [8.0, -6.8], [15.2, -3.6], [-39.2, 39.4], [-32.0, 43.4], [-23.6, 43.6], [-16.6, 39.2], [-24.2, 37.6], [-32.2, 37.0], [17.8, 38.4], [25.0, 43.4], [33.4, 42.4], [40.8, 38.4], [33.6, 35.8], [25.0, 36.6], [-24.0, -31.8], [-16.0, -25.8], [-7.0, -22.4], [-0.8, -24.4], [6.2, -22.6], [14.2, -26.4], [22.2, -32.8], [14.6, -44.0], [5.6, -49.4], [-1.4, -50.6], [-8.6, -49.6], [-17.2, -43.6], [-19.8, -32.4], [-7.0, -28.6], [-0.8, -29.2], [5.6, -28.6], [18.0, -32.8], [5.6, -40.0], [-0.6, -41.2], [-7.6, -40.2]])\n",
    "\n",
    "TargetFace2 = np.array([[-77.6, 46.6], [-76.9, 24.6], [-74.2, 3.0], [-70.7, -18.3], [-62.6, -39.6], [-51.7, -59.7], [-37.7, -76.2], [-20.9, -89.2], [-2.0, -92.8], [17.7, -89.5], [34.5, -76.2], [49.6, -60.3], [62.1, -41.1], [69.7, -21.0], [74.9, 0.6], [76.8, 21.7], [77.7, 43.7], [-62.8, 60.3], [-54.1, 72.2], [-39.7, 76.7], [-23.8, 76.7], [-9.8, 71.5], [11.7, 71.8], [25.7, 76.2], [41.3, 76.9], [55.6, 70.9], [64.0, 58.8], [1.6, 51.4], [1.6, 34.5], [1.6, 18.9], [1.9, 2.5], [-18.4, -5.4], [-9.0, -9.1], [0.7, -12.5], [10.5, -9.5], [19.4, -5.4], [-47.3, 45.8], [-38.4, 49.7], [-28.9, 50.0], [-20.5, 45.5], [-29.3, 43.9], [-38.9, 43.5], [21.3, 44.6], [30.2, 49.5], [39.7, 48.3], [48.9, 44.4], [40.0, 41.8], [30.2, 42.7], [-33.0, -33.7], [-21.6, -29.2], [-9.7, -26.6], [-0.9, -29.0], [8.6, -27.1], [19.3, -29.6], [30.7, -34.2], [20.1, -49.6], [8.2, -56.8], [-1.3, -58.5], [-11.3, -57.1], [-23.3, -49.5], [-27.9, -35.0], [-9.7, -33.2], [-0.9, -34.5], [8.2, -33.2], [25.6, -35.1], [8.2, -45.9], [-0.6, -47.6], [-10.1, -46.4]])\n",
    "\n",
    "\n",
    "\n",
    "edges = [(0, 1), (1, 2), (2, 3), (3, 4), (4, 5), (5, 6), (6, 7), (7, 8),\n",
    "         (8, 9), (9, 10), (10, 11), (11, 12), (12, 13), (13, 14), (14, 15), (15, 16),\n",
    "         (17, 18), (18, 19), (19, 20), (20, 21),\n",
    "         (22, 23), (23, 24), (24, 25), (25, 26),\n",
    "         (27, 28), (28, 29), (29, 30), (30, 33), (31, 32), (32, 33), (33, 34), (34, 35),\n",
    "         (36, 37), (37, 38), (38, 39), (39, 40), (40, 41), (41, 36),\n",
    "         (42, 43), (43, 44), (44, 45), (45, 46), (46, 47), (47, 42),\n",
    "         (48, 49), (49, 50), (50, 51), (51, 52), (52, 53), (53, 54),\n",
    "         (54, 55), (55, 56), (56, 57), (57, 58), (58, 59), (59, 48),\n",
    "         (60, 61), (61, 62), (62, 63), (63, 64), (64, 65), (65, 66), (66, 67), (67,60)]\n",
    "\n"
   ]
  },
  {
   "cell_type": "markdown",
   "metadata": {
    "id": "Euk_ULdW9tTE"
   },
   "source": [
    "----------------------------------------------------------------------\n",
    "using the face data and performing the rotation by multiplying the rotation matrix and plot the final result."
   ]
  },
  {
   "cell_type": "code",
   "execution_count": null,
   "metadata": {
    "id": "ktP3zQpl9das"
   },
   "outputs": [],
   "source": [
    "def plot_face(plt,X,edges,color='b'):\n",
    "    \"plots a face\"\n",
    "    plt.plot(X[:,0], X[:,1], 'o', color=color)\n",
    "    for i,j in edges:\n",
    "        xi,yi = X[i]\n",
    "        xj,yj = X[j]\n",
    "        plt.plot((xi,xj), (yi,yj), '-', color=color)\n",
    "        plt.axis('square')\n",
    "        plt.xlim(-100,100)\n",
    "        plt.ylim(-100,100)"
   ]
  },
  {
   "cell_type": "markdown",
   "metadata": {
    "id": "cDZpFcLM_55A"
   },
   "source": [
    "Example of ploting face data using plot_face function"
   ]
  },
  {
   "cell_type": "code",
   "execution_count": null,
   "metadata": {
    "colab": {
     "base_uri": "https://localhost:8080/",
     "height": 435
    },
    "id": "ovnyf-qe_1lU",
    "outputId": "ea1f9de7-6611-4336-83a7-ce98401411df"
   },
   "outputs": [],
   "source": [
    "plot_face(plt, Face1, edges, color='b')\n",
    "plt.show()"
   ]
  },
  {
   "cell_type": "code",
   "execution_count": null,
   "metadata": {
    "colab": {
     "base_uri": "https://localhost:8080/",
     "height": 435
    },
    "id": "TRq0DCRyAQEi",
    "outputId": "01636f28-1764-4c8b-a795-409deaf228b7"
   },
   "outputs": [],
   "source": [
    "def rotation_matrix(theta):\n",
    "  return np.array([[np.cos(theta),-np.sin(theta)],[np.sin(theta),np.cos(theta)]])\n",
    "\n",
    "favorite_angle = np.radians(45)\n",
    "\n",
    "rotated_points = []\n",
    "\n",
    "for point in Face1:\n",
    "    rotated_point = np.dot(rotation_matrix(favorite_angle),point)\n",
    "    rotated_points.append(rotated_point)\n",
    "\n",
    "#Replace For loop with a single line command to compare execution time\n",
    "rotated_face = np.dot(np.array([rotation_matrix(favorite_angle)] * len(Face1)), np.array(Face1).T).T\n",
    "\n",
    "X1= np.array(rotated_points)\n",
    "\n",
    "# replace the zero number by the final calculated array\n",
    "plot_face(plt, X1, edges, color='b')\n",
    "plt.show()"
   ]
  },
  {
   "cell_type": "code",
   "execution_count": null,
   "metadata": {
    "id": "WCYVDlgKELBt"
   },
   "outputs": [],
   "source": [
    "m,n,p = 100,50, 2000\n",
    "A = np.random.rand(m,n,p)\n",
    "s = np.random.rand(p)\n",
    "for i in range(p):\n",
    "    A[:,:,i] *= s[i]"
   ]
  },
  {
   "cell_type": "code",
   "execution_count": null,
   "metadata": {
    "colab": {
     "base_uri": "https://localhost:8080/"
    },
    "id": "-zDHbi0wEP0p",
    "outputId": "4f8810be-9509-4097-fc51-f4533f86ddc4"
   },
   "outputs": [],
   "source": [
    "m,n,p = 100,50, 2000\n",
    "A = np.random.rand(m,n,p)\n",
    "s = np.random.rand(p)\n",
    "def op1():\n",
    "    for i in range(p):\n",
    "        A[:,:,i] *= s[i]\n",
    "#replace for with one line command\n",
    "def op2():\n",
    "  global A\n",
    "  A *= s.reshape(1,1,p)\n",
    "\n",
    "t1 = timeit.timeit(op1,number=1)\n",
    "print(t1)\n",
    "t2 = timeit.timeit(op2,number=1)\n",
    "print(t2)\n",
    "\n",
    "\"\"\"\"\"\n",
    "t1 is approximately 0.13029128600010154 and t2\n",
    "is approximately 0.013186279999899853\n",
    "and op2 is much faster than the first one(about 0.1)\n",
    "\"\"\"\"\"\""
   ]
  },
  {
   "cell_type": "markdown",
   "metadata": {
    "id": "pkUgX6ZXKRVY"
   },
   "source": [
    "Now I Use the pandas dataframe to load the grades.csv file and calculate average of each student and sort them by average and save in the sorted_gardes.csv file"
   ]
  },
  {
   "cell_type": "code",
   "execution_count": null,
   "metadata": {
    "id": "2UFK7bygExVn"
   },
   "outputs": [],
   "source": [
    "import pandas as pd\n",
    "grades = pd.read_csv('grades.csv')\n",
    "grades['Average'] = grades.iloc[:,2:6].mean(axis=1)\n",
    "grades = grades.sort_values(by='Average',ascending=False)\n",
    "grades.to_csv('sorted_grades.csv',index=False)"
   ]
  }
 ],
 "metadata": {
  "colab": {
   "provenance": [],
   "toc_visible": true
  },
  "kernelspec": {
   "display_name": "Python 3 (ipykernel)",
   "language": "python",
   "name": "python3"
  },
  "language_info": {
   "codemirror_mode": {
    "name": "ipython",
    "version": 3
   },
   "file_extension": ".py",
   "mimetype": "text/x-python",
   "name": "python",
   "nbconvert_exporter": "python",
   "pygments_lexer": "ipython3",
   "version": "3.11.7"
  }
 },
 "nbformat": 4,
 "nbformat_minor": 4
}
